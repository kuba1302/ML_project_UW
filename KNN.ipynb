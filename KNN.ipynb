{
 "cells": [
  {
   "cell_type": "code",
   "execution_count": 1,
   "metadata": {},
   "outputs": [],
   "source": [
    "import pandas as pd\n",
    "import numpy as np\n",
    "from sklearn.neighbors import KNeighborsClassifier\n",
    "from sklearn import metrics\n",
    "from sklearn.model_selection import StratifiedKFold\n",
    "from sklearn.metrics import roc_auc_score\n",
    "from sklearn.preprocessing import StandardScaler, MinMaxScaler\n",
    "import random"
   ]
  },
  {
   "cell_type": "code",
   "execution_count": 10,
   "metadata": {},
   "outputs": [],
   "source": [
    "data = pd.read_csv('full_data.csv')\n",
    "col_list = data.columns.tolist()\n",
    "features = col_list.copy()\n",
    "features.remove('y')\n",
    "num_cols = [col for col in features if data[col].dtype=='int64']\n",
    "data_le = pd.read_csv('encoded_data.csv')"
   ]
  },
  {
   "cell_type": "code",
   "execution_count": 11,
   "metadata": {},
   "outputs": [],
   "source": [
    "data_oh = pd.read_csv('OHencoded_data.csv')\n",
    "col_list_oh = data_oh.columns.tolist()\n",
    "features = col_list_oh.copy()\n",
    "features.remove('y')"
   ]
  },
  {
   "cell_type": "code",
   "execution_count": 15,
   "metadata": {},
   "outputs": [],
   "source": [
    "data_std = pd.read_csv('stand_scaled_data.csv')\n",
    "data_mm = pd.read_csv('min_max_scaled_data.csv')"
   ]
  },
  {
   "cell_type": "code",
   "execution_count": 8,
   "metadata": {},
   "outputs": [],
   "source": [
    "def CVKNN(df, n_splits=5,  rando_state=2021, features=features, if_print=True, \n",
    "                  *args, **kwargs):\n",
    "    # Prepare KStratifiedKFOLD\n",
    "    kf = StratifiedKFold(n_splits=n_splits, shuffle=True, random_state=rando_state)\n",
    "    \n",
    "    # Make copy of data\n",
    "    data = df.copy()\n",
    "    \n",
    "    # Prepare empty lists\n",
    "    train_results = []\n",
    "    test_results = []\n",
    "    preds = []\n",
    "    \n",
    "    # Prepare int to count fold s\n",
    "    fold_number = 1\n",
    "       \n",
    "    for train, test in kf.split(data.index.values, data['y']):\n",
    "        # Prepare KNN model \n",
    "        model = KNeighborsClassifier(*args, **kwargs)\n",
    "        model.fit(data.loc[train, features], data.loc[train, 'y'])\n",
    "        \n",
    "        # Make predictions\n",
    "        train_preds = model.predict(data.loc[train, features])\n",
    "        test_preds = model.predict(data.loc[test, features])\n",
    "        preds.append(test_preds)\n",
    "        \n",
    "        # Prepare ROC_AUC score\n",
    "        train_roc = metrics.roc_auc_score(data.loc[train, 'y'], train_preds)\n",
    "        test_roc = metrics.roc_auc_score(data.loc[test, 'y'], test_preds)\n",
    "        \n",
    "        # Add ROC_AUC to lis\n",
    "        train_results.append(train_roc)\n",
    "        test_results.append(test_roc)\n",
    "        \n",
    "        if if_print:\n",
    "            print(f'FOLD NUMBER: {fold_number}')\n",
    "            print(f'ROC_AUC ON TRAIN SCORE {train_roc}')\n",
    "            print(f'ROC_AUC ON TEST SCORE {test_roc}')\n",
    "                  \n",
    "        fold_number += 1 \n",
    "        \n",
    "    return train_results, test_results, preds "
   ]
  },
  {
   "cell_type": "code",
   "execution_count": 9,
   "metadata": {},
   "outputs": [],
   "source": [
    "def hparam_tuning():\n",
    "    param_dict = {\n",
    "        'n_neighbors': random.randrange(5, 101, 5),\n",
    "        'p': random.randrange(1, 3)\n",
    "    }\n",
    "    \n",
    "    test_list = []\n",
    "    for i in range(20):\n",
    "        n_neighbors = param_dict['n_neighbors']\n",
    "        p = param_dict['p']\n",
    "        train_results, test_results, preds = CVKNN(df=data_std, n_neighbors=n_neighbors, p=p, n_jobs=-1)\n",
    "        print([n_neighbors, p, np.mean(test_results)])\n",
    "        test_list.append([n_neighbors, p, np.mean(test_results)])\n",
    "    \n",
    "    return sorted(test_list, key = lambda x : x[-1], reverse=True)"
   ]
  },
  {
   "cell_type": "code",
   "execution_count": null,
   "metadata": {},
   "outputs": [
    {
     "name": "stdout",
     "output_type": "stream",
     "text": [
      "FOLD NUMBER: 1\n",
      "ROC_AUC ON TRAIN SCORE 0.7688695441136144\n",
      "ROC_AUC ON TEST SCORE 0.7562281861100454\n",
      "FOLD NUMBER: 2\n",
      "ROC_AUC ON TRAIN SCORE 0.7703545093197344\n",
      "ROC_AUC ON TEST SCORE 0.7567326273688277\n",
      "FOLD NUMBER: 3\n",
      "ROC_AUC ON TRAIN SCORE 0.7691408372355438\n",
      "ROC_AUC ON TEST SCORE 0.7620564477748127\n",
      "FOLD NUMBER: 4\n",
      "ROC_AUC ON TRAIN SCORE 0.7713850634392562\n",
      "ROC_AUC ON TEST SCORE 0.7667186813593059\n",
      "FOLD NUMBER: 5\n",
      "ROC_AUC ON TRAIN SCORE 0.769490046394746\n",
      "ROC_AUC ON TEST SCORE 0.7666166731361128\n",
      "[45, 2, 0.7616705231498209]\n",
      "FOLD NUMBER: 1\n",
      "ROC_AUC ON TRAIN SCORE 0.7688695441136144\n",
      "ROC_AUC ON TEST SCORE 0.7562281861100454\n",
      "FOLD NUMBER: 2\n",
      "ROC_AUC ON TRAIN SCORE 0.7703545093197344\n",
      "ROC_AUC ON TEST SCORE 0.7567326273688277\n",
      "FOLD NUMBER: 3\n",
      "ROC_AUC ON TRAIN SCORE 0.7691408372355438\n",
      "ROC_AUC ON TEST SCORE 0.7620564477748127\n",
      "FOLD NUMBER: 4\n",
      "ROC_AUC ON TRAIN SCORE 0.7713850634392562\n",
      "ROC_AUC ON TEST SCORE 0.7667186813593059\n",
      "FOLD NUMBER: 5\n",
      "ROC_AUC ON TRAIN SCORE 0.769490046394746\n",
      "ROC_AUC ON TEST SCORE 0.7666166731361128\n",
      "[45, 2, 0.7616705231498209]\n",
      "FOLD NUMBER: 1\n",
      "ROC_AUC ON TRAIN SCORE 0.7688695441136144\n",
      "ROC_AUC ON TEST SCORE 0.7562281861100454\n"
     ]
    }
   ],
   "source": [
    "hparam_tuning()"
   ]
  },
  {
   "cell_type": "code",
   "execution_count": 9,
   "metadata": {},
   "outputs": [
    {
     "name": "stdout",
     "output_type": "stream",
     "text": [
      "FOLD NUMBER: 1\n",
      "ROC_AUC ON TRAIN SCORE 0.7694601004176923\n",
      "ROC_AUC ON TEST SCORE 0.7477197113932929\n",
      "FOLD NUMBER: 2\n",
      "ROC_AUC ON TRAIN SCORE 0.7712681416779226\n",
      "ROC_AUC ON TEST SCORE 0.7549450381203106\n",
      "FOLD NUMBER: 3\n",
      "ROC_AUC ON TRAIN SCORE 0.7679950733917819\n",
      "ROC_AUC ON TEST SCORE 0.7557930046716483\n",
      "FOLD NUMBER: 4\n",
      "ROC_AUC ON TRAIN SCORE 0.7709229546408058\n",
      "ROC_AUC ON TEST SCORE 0.762600002176636\n",
      "FOLD NUMBER: 5\n",
      "ROC_AUC ON TRAIN SCORE 0.7690136132993953\n",
      "ROC_AUC ON TEST SCORE 0.7646737663008017\n"
     ]
    },
    {
     "data": {
      "text/plain": [
       "([0.7694601004176923,\n",
       "  0.7712681416779226,\n",
       "  0.7679950733917819,\n",
       "  0.7709229546408058,\n",
       "  0.7690136132993953],\n",
       " [0.7477197113932929,\n",
       "  0.7549450381203106,\n",
       "  0.7557930046716483,\n",
       "  0.762600002176636,\n",
       "  0.7646737663008017],\n",
       " [array([0, 0, 1, ..., 0, 0, 1]),\n",
       "  array([0, 1, 0, ..., 0, 0, 1]),\n",
       "  array([0, 0, 0, ..., 0, 0, 0]),\n",
       "  array([0, 1, 1, ..., 0, 1, 1]),\n",
       "  array([0, 0, 0, ..., 1, 0, 0])])"
      ]
     },
     "execution_count": 9,
     "metadata": {},
     "output_type": "execute_result"
    }
   ],
   "source": [
    "CVKNN(df=data_std, n_neighbors=30, n_jobs=-1)"
   ]
  },
  {
   "cell_type": "code",
   "execution_count": null,
   "metadata": {},
   "outputs": [],
   "source": []
  },
  {
   "cell_type": "code",
   "execution_count": null,
   "metadata": {},
   "outputs": [],
   "source": []
  }
 ],
 "metadata": {
  "kernelspec": {
   "display_name": "Python 3",
   "language": "python",
   "name": "python3"
  },
  "language_info": {
   "codemirror_mode": {
    "name": "ipython",
    "version": 3
   },
   "file_extension": ".py",
   "mimetype": "text/x-python",
   "name": "python",
   "nbconvert_exporter": "python",
   "pygments_lexer": "ipython3",
   "version": "3.8.5"
  }
 },
 "nbformat": 4,
 "nbformat_minor": 4
}
