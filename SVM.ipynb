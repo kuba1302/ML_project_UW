{
 "cells": [
  {
   "cell_type": "code",
   "execution_count": 6,
   "id": "57d0e383-dfca-4003-af20-76a78fac0e6c",
   "metadata": {},
   "outputs": [],
   "source": [
    "from sklearn import metrics\n",
    "from sklearn.svm import SVC\n",
    "from sklearn.model_selection import StratifiedKFold\n",
    "import matplotlib.pyplot as plt\n",
    "import pandas as pd\n",
    "import numpy as np"
   ]
  },
  {
   "cell_type": "code",
   "execution_count": 7,
   "id": "2631b572-8c89-44fe-bdd0-29bbe13ee594",
   "metadata": {},
   "outputs": [],
   "source": [
    "data = pd.read_csv('Data/stand_scaled_data.csv')\n",
    "features = data.columns.tolist()\n",
    "features.remove('y')"
   ]
  },
  {
   "cell_type": "code",
   "execution_count": 8,
   "id": "1aa713ea-8503-4d8f-843c-723c25101b6a",
   "metadata": {},
   "outputs": [],
   "source": [
    "data_sample = data.sample(5000).reset_index()"
   ]
  },
  {
   "cell_type": "code",
   "execution_count": 11,
   "id": "812dec69-afb9-481a-aaee-f102df33a8d2",
   "metadata": {},
   "outputs": [],
   "source": [
    "def CVSVM(df, n_splits=5,  rando_state=2021, features=features, if_print=True, \n",
    "                  *args, **kwargs):\n",
    "    # Prepare KStratifiedKFOLD\n",
    "    kf = StratifiedKFold(n_splits=n_splits, shuffle=True, random_state=rando_state)\n",
    "    \n",
    "    # Make copy of data\n",
    "    data = df.copy()\n",
    "    \n",
    "    # Prepare empty lists\n",
    "    train_results = []\n",
    "    test_results = []\n",
    "    preds = []\n",
    "    indicies = []\n",
    "    # Prepare int to count fold s\n",
    "    fold_number = 1\n",
    "       \n",
    "    for train, test in kf.split(data.index.values, data['y']):\n",
    "        # Prepare KNN model \n",
    "        model = SVC(C=1, # wartość kary za błąd klasyfikacji (hiperparametr modelu\n",
    "                  cache_size=500, \n",
    "                  kernel='linear', # Wybór kernela (narazie liniowy)\n",
    "                  max_iter=-1, \n",
    "                  probability=True, # czy funkcja ma zwracać prawdopodobieństwa?\n",
    "                  tol=0.001, \n",
    "                  verbose=False, *args, **kwargs)\n",
    "        model.fit(data.loc[train, features], data.loc[train, 'y'])\n",
    "        \n",
    "        # Make predictions\n",
    "        train_preds = model.predict(data.loc[train, features])\n",
    "        test_preds = model.predict(data.loc[test, features])\n",
    "        preds.append(test_preds)\n",
    "        \n",
    "        indicies.append(df.iloc[test].index.tolist().copy())\n",
    "        \n",
    "        # Prepare ROC_AUC score\n",
    "        train_roc = metrics.roc_auc_score(data.loc[train, 'y'], train_preds)\n",
    "        test_roc = metrics.roc_auc_score(data.loc[test, 'y'], test_preds)\n",
    "        \n",
    "        # Add ROC_AUC to lis\n",
    "        train_results.append(train_roc)\n",
    "        test_results.append(test_roc)\n",
    "        \n",
    "        if if_print:\n",
    "            print(f'FOLD NUMBER: {fold_number}')\n",
    "            print(f'ROC_AUC ON TRAIN SCORE {train_roc}')\n",
    "            print(f'ROC_AUC ON TEST SCORE {test_roc}')\n",
    "                  \n",
    "        fold_number += 1 \n",
    "        \n",
    "    return train_results, test_results, preds, indicies"
   ]
  },
  {
   "cell_type": "code",
   "execution_count": 13,
   "id": "4ebcf5cd-42ce-4b77-94be-ffd90f7166f2",
   "metadata": {},
   "outputs": [
    {
     "name": "stdout",
     "output_type": "stream",
     "text": [
      "FOLD NUMBER: 1\n",
      "ROC_AUC ON TRAIN SCORE 0.7716273090006636\n",
      "ROC_AUC ON TEST SCORE 0.7681861793759132\n",
      "FOLD NUMBER: 2\n",
      "ROC_AUC ON TRAIN SCORE 0.7708024987070311\n",
      "ROC_AUC ON TEST SCORE 0.7603196755271593\n",
      "FOLD NUMBER: 3\n",
      "ROC_AUC ON TRAIN SCORE 0.7710268743452164\n",
      "ROC_AUC ON TEST SCORE 0.7492422425260037\n",
      "FOLD NUMBER: 4\n",
      "ROC_AUC ON TRAIN SCORE 0.7683452620138855\n",
      "ROC_AUC ON TEST SCORE 0.7561874441222006\n",
      "FOLD NUMBER: 5\n",
      "ROC_AUC ON TRAIN SCORE 0.7616607427113543\n",
      "ROC_AUC ON TEST SCORE 0.763931699202505\n"
     ]
    }
   ],
   "source": [
    "model = CVSVM(data_sample)\n",
    "# Model bardzo wolny nawet na samplu danych, słabe wyniki"
   ]
  },
  {
   "cell_type": "code",
   "execution_count": null,
   "id": "191be9f3-df0f-4828-8886-2360aafd774d",
   "metadata": {},
   "outputs": [],
   "source": []
  }
 ],
 "metadata": {
  "kernelspec": {
   "display_name": "Python 3",
   "language": "python",
   "name": "python3"
  },
  "language_info": {
   "codemirror_mode": {
    "name": "ipython",
    "version": 3
   },
   "file_extension": ".py",
   "mimetype": "text/x-python",
   "name": "python",
   "nbconvert_exporter": "python",
   "pygments_lexer": "ipython3",
   "version": "3.8.5"
  }
 },
 "nbformat": 4,
 "nbformat_minor": 5
}
