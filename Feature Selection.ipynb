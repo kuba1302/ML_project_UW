{
 "cells": [
  {
   "cell_type": "code",
   "execution_count": 61,
   "metadata": {},
   "outputs": [],
   "source": [
    "import numpy as np\n",
    "import pandas as pd\n",
    "from scipy import stats\n",
    "from sklearn import feature_selection"
   ]
  },
  {
   "cell_type": "code",
   "execution_count": 7,
   "metadata": {},
   "outputs": [],
   "source": [
    "data = pd.read_csv('encoded_data.csv')\n",
    "col_list = data.columns.tolist()\n",
    "features = col_list.copy()\n",
    "features.remove('y')"
   ]
  },
  {
   "cell_type": "code",
   "execution_count": 86,
   "metadata": {},
   "outputs": [],
   "source": [
    "def check_corr(data, target_name, corr_type):\n",
    "    # Prepare list of features\n",
    "    col_list = data.columns.tolist()\n",
    "    features = col_list.copy()\n",
    "    features.remove(target_name)\n",
    "    \n",
    "    result_list = []\n",
    "    if corr_type == 'spearman':\n",
    "        for col in features:\n",
    "            corr = stats.spearmanr(data[col], data[target_name])\n",
    "            print([corr_type, col, corr[0], corr[1]])\n",
    "            result_list.append([corr_type, col, corr[0], corr[1]])\n",
    "            \n",
    "        return sorted(result_list, key = lambda x : np.absolute(x[2]), reverse=True)\n",
    "    \n",
    "    if corr_type == 'mutual_information':\n",
    "        for col in features:\n",
    "            corr = feature_selection.mutual_info_classif(data[col].values.reshape(-1, 1), data[target_name].values)\n",
    "            print(corr_type, col, corr)\n",
    "            result_list.append([corr_type, col, corr])\n",
    "            \n",
    "        return sorted(result_list, key = lambda x : x[-1], reverse=True)"
   ]
  },
  {
   "cell_type": "code",
   "execution_count": 87,
   "metadata": {},
   "outputs": [
    {
     "name": "stdout",
     "output_type": "stream",
     "text": [
      "mutual_information age [0.06803163]\n",
      "mutual_information workclass [0.02066401]\n",
      "mutual_information fnlwgt [0.03843362]\n",
      "mutual_information education [0.06543066]\n",
      "mutual_information education_num [0.06718285]\n",
      "mutual_information martial_status [0.11120502]\n",
      "mutual_information occupation [0.06171553]\n",
      "mutual_information relationship [0.11693714]\n",
      "mutual_information race [0.01166649]\n",
      "mutual_information sex [0.02859731]\n",
      "mutual_information capital_gain [0.08075946]\n",
      "mutual_information capital_loss [0.03490752]\n",
      "mutual_information hours_per_week [0.04160068]\n",
      "mutual_information naive_country [0.01167996]\n",
      "['spearman', 'age', 0.26943278344728966, 0.0]\n",
      "['spearman', 'workclass', 0.06417705429636551, 9.487477921611711e-46]\n",
      "['spearman', 'fnlwgt', -0.005934363931014744, 0.18969367592978167]\n",
      "['spearman', 'education', 0.03076935109549957, 1.0351206835370442e-11]\n",
      "['spearman', 'education_num', 0.3278147269178631, 0.0]\n",
      "['spearman', 'martial_status', -0.23656066226551642, 0.0]\n",
      "['spearman', 'occupation', 0.08301975706199433, 1.9415855100640214e-75]\n",
      "['spearman', 'relationship', -0.3329924978918204, 0.0]\n",
      "['spearman', 'race', 0.08062147582854105, 3.097901168758312e-71]\n",
      "['spearman', 'sex', 0.214628034563928, 0.0]\n",
      "['spearman', 'capital_gain', 0.27773412927560365, 0.0]\n",
      "['spearman', 'capital_loss', 0.13824837022717731, 5.7028505856885134e-207]\n",
      "['spearman', 'hours_per_week', 0.2681657658301571, 0.0]\n",
      "['spearman', 'naive_country', 0.027293965393194505, 1.609458495080441e-09]\n"
     ]
    }
   ],
   "source": [
    "mutual_info = check_corr(data,'y', 'mutual_information')\n",
    "spearman = check_corr(data,'y', 'spearman')"
   ]
  },
  {
   "cell_type": "code",
   "execution_count": 88,
   "metadata": {},
   "outputs": [
    {
     "data": {
      "text/plain": [
       "[['mutual_information', 'relationship', array([0.11693714])],\n",
       " ['mutual_information', 'martial_status', array([0.11120502])],\n",
       " ['mutual_information', 'capital_gain', array([0.08075946])],\n",
       " ['mutual_information', 'age', array([0.06803163])],\n",
       " ['mutual_information', 'education_num', array([0.06718285])],\n",
       " ['mutual_information', 'education', array([0.06543066])],\n",
       " ['mutual_information', 'occupation', array([0.06171553])],\n",
       " ['mutual_information', 'hours_per_week', array([0.04160068])],\n",
       " ['mutual_information', 'fnlwgt', array([0.03843362])],\n",
       " ['mutual_information', 'capital_loss', array([0.03490752])],\n",
       " ['mutual_information', 'sex', array([0.02859731])],\n",
       " ['mutual_information', 'workclass', array([0.02066401])],\n",
       " ['mutual_information', 'naive_country', array([0.01167996])],\n",
       " ['mutual_information', 'race', array([0.01166649])]]"
      ]
     },
     "execution_count": 88,
     "metadata": {},
     "output_type": "execute_result"
    }
   ],
   "source": [
    "mutual_info"
   ]
  },
  {
   "cell_type": "code",
   "execution_count": 89,
   "metadata": {},
   "outputs": [
    {
     "data": {
      "text/plain": [
       "[['spearman', 'relationship', -0.3329924978918204, 0.0],\n",
       " ['spearman', 'education_num', 0.3278147269178631, 0.0],\n",
       " ['spearman', 'capital_gain', 0.27773412927560365, 0.0],\n",
       " ['spearman', 'age', 0.26943278344728966, 0.0],\n",
       " ['spearman', 'hours_per_week', 0.2681657658301571, 0.0],\n",
       " ['spearman', 'martial_status', -0.23656066226551642, 0.0],\n",
       " ['spearman', 'sex', 0.214628034563928, 0.0],\n",
       " ['spearman', 'capital_loss', 0.13824837022717731, 5.7028505856885134e-207],\n",
       " ['spearman', 'occupation', 0.08301975706199433, 1.9415855100640214e-75],\n",
       " ['spearman', 'race', 0.08062147582854105, 3.097901168758312e-71],\n",
       " ['spearman', 'workclass', 0.06417705429636551, 9.487477921611711e-46],\n",
       " ['spearman', 'education', 0.03076935109549957, 1.0351206835370442e-11],\n",
       " ['spearman', 'naive_country', 0.027293965393194505, 1.609458495080441e-09],\n",
       " ['spearman', 'fnlwgt', -0.005934363931014744, 0.18969367592978167]]"
      ]
     },
     "execution_count": 89,
     "metadata": {},
     "output_type": "execute_result"
    }
   ],
   "source": [
    "spearman"
   ]
  },
  {
   "cell_type": "code",
   "execution_count": null,
   "metadata": {},
   "outputs": [],
   "source": []
  }
 ],
 "metadata": {
  "kernelspec": {
   "display_name": "Python 3",
   "language": "python",
   "name": "python3"
  },
  "language_info": {
   "codemirror_mode": {
    "name": "ipython",
    "version": 3
   },
   "file_extension": ".py",
   "mimetype": "text/x-python",
   "name": "python",
   "nbconvert_exporter": "python",
   "pygments_lexer": "ipython3",
   "version": "3.8.5"
  }
 },
 "nbformat": 4,
 "nbformat_minor": 4
}
